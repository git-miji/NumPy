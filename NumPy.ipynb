{
  "cells": [
    {
      "cell_type": "markdown",
      "metadata": {
        "id": "view-in-github",
        "colab_type": "text"
      },
      "source": [
        "<a href=\"https://colab.research.google.com/github/git-miji/NumPy/blob/main/NumPy.ipynb\" target=\"_parent\"><img src=\"https://colab.research.google.com/assets/colab-badge.svg\" alt=\"Open In Colab\"/></a>"
      ]
    },
    {
      "cell_type": "markdown",
      "id": "51c12c03",
      "metadata": {
        "id": "51c12c03"
      },
      "source": [
        "# NumPy\n",
        "\n",
        "NumPy is short for \"Numerical Python\". NumPy is a Python library used for working with arrays. It is a general purpose array-processing package.It provides a high performance multidimensional array object, and tools for working with these arrays. It is the fundamental package for scientific computing with Python."
      ]
    },
    {
      "cell_type": "markdown",
      "id": "14c385cf",
      "metadata": {
        "id": "14c385cf"
      },
      "source": [
        "# Array\n",
        "Array is an data structure that stores values of same data type. In, python, this is the main difference between with arrays and lists.While Python lists can obtain values corresponding to different data types, arrays in Python can only contain values corresponding to same data type."
      ]
    },
    {
      "cell_type": "code",
      "execution_count": null,
      "id": "1cac8c91",
      "metadata": {
        "id": "1cac8c91"
      },
      "outputs": [],
      "source": [
        "# First we must import Numpy. NumPy is usually imported under the np alias.\n",
        "import numpy as np"
      ]
    },
    {
      "cell_type": "markdown",
      "id": "f1e0bc29",
      "metadata": {
        "id": "f1e0bc29"
      },
      "source": [
        "# Create a NumPy ndarray Object\n",
        "NumPy is used to work with arrays. The array object in NumPy is called ndarray. We can create a NumPy ndarray object by using the array() function. To create an ndarray, we can pass a list, tuple or any array-like object into the array() method, and it will be converted into an ndarray:"
      ]
    },
    {
      "cell_type": "code",
      "execution_count": null,
      "id": "ab9301ce",
      "metadata": {
        "id": "ab9301ce"
      },
      "outputs": [],
      "source": [
        "list_01=[1, 2, 3, 4, 5]\n",
        "list_02= [6, 7, 8, 9, 10]\n",
        "arr1=np.array(list_01)\n",
        "arr2=np.array(list_02)"
      ]
    },
    {
      "cell_type": "code",
      "execution_count": null,
      "id": "76ccaf5c",
      "metadata": {
        "id": "76ccaf5c",
        "outputId": "feb86a77-c683-419a-f35a-2bea7de6059e"
      },
      "outputs": [
        {
          "data": {
            "text/plain": [
              "array([1, 2, 3, 4, 5])"
            ]
          },
          "execution_count": 7,
          "metadata": {},
          "output_type": "execute_result"
        }
      ],
      "source": [
        "arr1"
      ]
    },
    {
      "cell_type": "code",
      "execution_count": null,
      "id": "6aa745d8",
      "metadata": {
        "id": "6aa745d8",
        "outputId": "fa8ccbc2-4d0a-48c0-be8f-746c691e2da3"
      },
      "outputs": [
        {
          "data": {
            "text/plain": [
              "numpy.ndarray"
            ]
          },
          "execution_count": 41,
          "metadata": {},
          "output_type": "execute_result"
        }
      ],
      "source": [
        "type(arr1)"
      ]
    },
    {
      "cell_type": "code",
      "execution_count": null,
      "id": "a94c7109",
      "metadata": {
        "id": "a94c7109",
        "outputId": "e95130e2-00f0-43aa-8033-5e90a5009408"
      },
      "outputs": [
        {
          "name": "stdout",
          "output_type": "stream",
          "text": [
            "1.21.5\n"
          ]
        }
      ],
      "source": [
        "#Checking NumPy Version\n",
        "print(np.__version__)"
      ]
    },
    {
      "cell_type": "markdown",
      "id": "cc6ec067",
      "metadata": {
        "id": "cc6ec067"
      },
      "source": [
        "# Dimension of Arrays:\n",
        "A dimension in arrays is one level of array depth (nested arrays). \n",
        "Nested array: are arrays that have arrays as their elements."
      ]
    },
    {
      "cell_type": "markdown",
      "id": "2cf801f4",
      "metadata": {
        "id": "2cf801f4"
      },
      "source": [
        "# 0-D Arrays\n",
        "0-D arrays, or Scalars, are the elements in an array. Each value in an array is a 0-D array. Example: Create a 0-D array with value 100 and check it's shape. Also check number of dimension of the array."
      ]
    },
    {
      "cell_type": "code",
      "execution_count": null,
      "id": "679e7b90",
      "metadata": {
        "id": "679e7b90",
        "outputId": "1d323310-dcfd-4984-a96d-726349efb271"
      },
      "outputs": [
        {
          "name": "stdout",
          "output_type": "stream",
          "text": [
            "100\n",
            "()\n",
            "0\n"
          ]
        }
      ],
      "source": [
        "arr = np.array(100)\n",
        "print(arr)\n",
        "print(arr.shape)\n",
        "print(arr.ndim)"
      ]
    },
    {
      "cell_type": "markdown",
      "id": "6486eeed",
      "metadata": {
        "id": "6486eeed"
      },
      "source": [
        "# 1-D Arrays\n",
        "An array that has 0-D arrays as its elements is called uni-dimensional or 1-D array. These are the most common and basic arrays. Example: Create a 1-D array containing the values 1,2,3,4,5 and check it's shape. Also check number of dimension of the array."
      ]
    },
    {
      "cell_type": "code",
      "execution_count": null,
      "id": "3970d31b",
      "metadata": {
        "id": "3970d31b",
        "outputId": "854cc9c1-621f-44a7-f2d8-035715ef7946"
      },
      "outputs": [
        {
          "name": "stdout",
          "output_type": "stream",
          "text": [
            "[1 2 3 4 5]\n",
            "(5,)\n",
            "1\n"
          ]
        }
      ],
      "source": [
        "arr = np.array([1,2,3,4,5])\n",
        "print(arr)\n",
        "print(arr.shape)\n",
        "print(arr.ndim)"
      ]
    },
    {
      "cell_type": "markdown",
      "id": "6d8fa3d0",
      "metadata": {
        "id": "6d8fa3d0"
      },
      "source": [
        "# 2-D Arrays\n",
        "An array that has 1-D arrays as its elements is called a 2-D array. These are often used to represent matrix or 2nd order tensors. NumPy has a whole sub module dedicated towards matrix operations called numpy.mat. 2 Bracket means 2 dimensional array. Example: "
      ]
    },
    {
      "cell_type": "code",
      "execution_count": null,
      "id": "d3e1617a",
      "metadata": {
        "id": "d3e1617a"
      },
      "outputs": [],
      "source": [
        "list_01=[1, 2, 3, 4, 5, 6]\n",
        "list_02= [6, 7, 8, 9, 10, 11]"
      ]
    },
    {
      "cell_type": "code",
      "execution_count": null,
      "id": "d68234a2",
      "metadata": {
        "id": "d68234a2"
      },
      "outputs": [],
      "source": [
        "arr=np.array([list_01, list_02])"
      ]
    },
    {
      "cell_type": "code",
      "execution_count": null,
      "id": "f5a8cc0e",
      "metadata": {
        "id": "f5a8cc0e",
        "outputId": "64065f1a-86b2-4790-dcf5-2c37a182faf4"
      },
      "outputs": [
        {
          "name": "stdout",
          "output_type": "stream",
          "text": [
            "[[ 1  2  3  4  5  6]\n",
            " [ 6  7  8  9 10 11]]\n",
            "2\n"
          ]
        }
      ],
      "source": [
        "print(arr)\n",
        "print(arr.ndim)"
      ]
    },
    {
      "cell_type": "markdown",
      "id": "81eaeb33",
      "metadata": {
        "id": "81eaeb33"
      },
      "source": [
        "# 3-D arrays\n",
        "An array that has 2-D arrays (matrices) as its elements is called 3-D array. These are often used to represent a 3rd order tensor. Example: Create a 3-D array with two 2-D arrays, both containing two arrays with the values 1,2,3,4,5 and 6,7,8,9,10. Also check number of dimension of the array."
      ]
    },
    {
      "cell_type": "code",
      "execution_count": null,
      "id": "a7c97dc3",
      "metadata": {
        "id": "a7c97dc3",
        "outputId": "312f8b68-c365-4d53-c66a-b36eb658d997"
      },
      "outputs": [
        {
          "name": "stdout",
          "output_type": "stream",
          "text": [
            "[[[ 1  2  3  4  5]\n",
            "  [ 6  7  8  9 10]]\n",
            "\n",
            " [[ 1  2  3  4  5]\n",
            "  [ 6  7  8  9 10]]]\n",
            "(2, 2, 5)\n",
            "3\n"
          ]
        }
      ],
      "source": [
        "arr=np.array([[[1,2,3,4,5], [6,7,8,9,10]],[[1,2,3,4,5], [6,7,8,9,10]]])\n",
        "print(arr)\n",
        "print(arr.shape)\n",
        "print(arr.ndim)"
      ]
    },
    {
      "cell_type": "markdown",
      "id": "782a7b41",
      "metadata": {
        "id": "782a7b41"
      },
      "source": [
        "array.shape will also tell the number of Row and Colums.\n",
        "\n",
        "Reshape can be done by array.reshape method. While doing so, number of elements in an array must be equal."
      ]
    },
    {
      "cell_type": "code",
      "execution_count": null,
      "id": "fed0c1e2",
      "metadata": {
        "scrolled": true,
        "id": "fed0c1e2",
        "outputId": "0dc2ce9c-9a7b-4a93-a32c-2fcf843054b5"
      },
      "outputs": [
        {
          "data": {
            "text/plain": [
              "(2, 2, 5)"
            ]
          },
          "execution_count": 7,
          "metadata": {},
          "output_type": "execute_result"
        }
      ],
      "source": [
        "arr.shape"
      ]
    },
    {
      "cell_type": "code",
      "execution_count": null,
      "id": "254cf352",
      "metadata": {
        "scrolled": true,
        "id": "254cf352",
        "outputId": "8aa55643-a433-4399-9f3d-2c15626086f2"
      },
      "outputs": [
        {
          "name": "stdout",
          "output_type": "stream",
          "text": [
            "[[ 1  2  3  4  5]\n",
            " [ 6  7  8  9 10]\n",
            " [ 1  2  3  4  5]\n",
            " [ 6  7  8  9 10]]\n",
            "(4, 5)\n"
          ]
        }
      ],
      "source": [
        "reshape_arr1=arr.reshape(4,5)\n",
        "print(reshape_arr1)\n",
        "print(reshape_arr1.shape)"
      ]
    },
    {
      "cell_type": "code",
      "execution_count": null,
      "id": "bf7a7016",
      "metadata": {
        "id": "bf7a7016",
        "outputId": "8e5669a2-3ab2-4d5c-a26a-feff1feb44d0"
      },
      "outputs": [
        {
          "name": "stdout",
          "output_type": "stream",
          "text": [
            "[[ 1  2  3  4]\n",
            " [ 5  6  7  8]\n",
            " [ 9 10  1  2]\n",
            " [ 3  4  5  6]\n",
            " [ 7  8  9 10]]\n",
            "(5, 4)\n"
          ]
        }
      ],
      "source": [
        "reshape_arr2=arr.reshape(5,4)\n",
        "print(reshape_arr2)\n",
        "print(reshape_arr2.shape)"
      ]
    },
    {
      "cell_type": "code",
      "execution_count": null,
      "id": "bdab06d7",
      "metadata": {
        "scrolled": true,
        "id": "bdab06d7",
        "outputId": "b8c50a8f-a5d7-439b-dea4-1b8f050d2905"
      },
      "outputs": [
        {
          "name": "stdout",
          "output_type": "stream",
          "text": [
            "[[ 1  2  3  4  5  6  7  8  9 10]\n",
            " [ 1  2  3  4  5  6  7  8  9 10]]\n",
            "(2, 10)\n"
          ]
        }
      ],
      "source": [
        "reshape_arr3=arr.reshape(2,10)\n",
        "print(reshape_arr3)\n",
        "print(reshape_arr3.shape)"
      ]
    },
    {
      "cell_type": "code",
      "execution_count": null,
      "id": "06dc7605",
      "metadata": {
        "id": "06dc7605",
        "outputId": "1c62c29a-64d5-41f8-8c5c-c3323d6d1835"
      },
      "outputs": [
        {
          "name": "stdout",
          "output_type": "stream",
          "text": [
            "[[ 1  2  3  4  5  6  7  8  9 10  1  2  3  4  5  6  7  8  9 10]]\n",
            "(1, 20)\n"
          ]
        }
      ],
      "source": [
        "reshape_arr4=arr.reshape(1,20)\n",
        "print(reshape_arr4)\n",
        "print(reshape_arr4.shape)"
      ]
    },
    {
      "cell_type": "markdown",
      "id": "d3574e9c",
      "metadata": {
        "id": "d3574e9c"
      },
      "source": [
        "# NumPy Array Indexing: Access Array Elements\n",
        "Array indexing is the same as accessing an array element. One can access an array element by referring to its index number. The indexes in NumPy arrays start with 0, meaning that the first element has index 0, and the second has index 1 etc. We have 1D, 2D and 3D array for indexing learning purpose here."
      ]
    },
    {
      "cell_type": "code",
      "execution_count": null,
      "id": "d7dc284b",
      "metadata": {
        "scrolled": true,
        "id": "d7dc284b",
        "outputId": "8864a723-cd5d-4e2d-9cdd-e4769a953c8c"
      },
      "outputs": [
        {
          "name": "stdout",
          "output_type": "stream",
          "text": [
            "The 1D array is:\n",
            " [1 2 3 4 5 6]\n",
            "The 2D array is:\n",
            " [[ 1  2  3  4  5  6]\n",
            " [ 6  7  8  9 10 11]]\n",
            "The 3D array is:\n",
            " [[[ 1  2  3  4  5  6]\n",
            "  [ 6  7  8  9 10 11]]\n",
            "\n",
            " [[11 12 13 14 15 16]\n",
            "  [16 17 18 19 20 21]]]\n"
          ]
        }
      ],
      "source": [
        "list_01=[1, 2, 3, 4, 5, 6]\n",
        "list_02= [6, 7, 8, 9, 10, 11]\n",
        "list_03=[11, 12, 13, 14, 15, 16]\n",
        "list_04= [16, 17, 18, 19, 20, 21]\n",
        "arr_01D= np.array(list_01)\n",
        "arr_02D=np.array([list_01, list_02])\n",
        "arr_03D=np.array([[list_01, list_02], [list_03, list_04]])\n",
        "print('The 1D array is:\\n', arr_01D)\n",
        "print('The 2D array is:\\n', arr_02D)\n",
        "print(\"The 3D array is:\\n\", arr_03D)"
      ]
    },
    {
      "cell_type": "markdown",
      "id": "d616c2c1",
      "metadata": {
        "id": "d616c2c1"
      },
      "source": [
        "# 1-D Array\n",
        "01. Get the 3rd element from 1-D Array\n",
        "\n",
        "# 2-D Array\n",
        "To access elements from 2-D arrays we can use comma separated integers representing the dimension and the index of the element. Think of 2-D arrays like a table with rows and columns, where the row represents the dimension and the index represents the column.\n",
        "01. Access the element on the first row, second column.\n",
        "02. Access the element on the 2nd row, 5th column.\n",
        "# 3-D Array\n",
        "To access elements from 3-D arrays we can use comma separated integers representing the dimensions and the index of the element.\n",
        "01. Access the third element of the second array of the first array."
      ]
    },
    {
      "cell_type": "code",
      "execution_count": null,
      "id": "372d653a",
      "metadata": {
        "id": "372d653a",
        "outputId": "2f589735-6a1b-421f-e88c-2e1a8fe38c72"
      },
      "outputs": [
        {
          "name": "stdout",
          "output_type": "stream",
          "text": [
            "3rd element of 1-D Array is: 3\n",
            "Element on the first row, second column of 2-D Array is: 2\n",
            "Element on the 2nd row, 5th column of 2-D Array is: 10\n",
            "3rd Element of the 2nd Array of the 1st Array is: 8\n"
          ]
        }
      ],
      "source": [
        "print('3rd element of 1-D Array is:', arr_01D[2])\n",
        "print('Element on the first row, second column of 2-D Array is:', arr_02D[0,1])\n",
        "print('Element on the 2nd row, 5th column of 2-D Array is:', arr_02D[1,4])\n",
        "print('3rd Element of the 2nd Array of the 1st Array is:', arr_03D[0,1,2])"
      ]
    },
    {
      "cell_type": "code",
      "execution_count": null,
      "id": "6b287757",
      "metadata": {
        "id": "6b287757",
        "outputId": "d1cf17a0-31dd-400d-fb8d-59145297292e"
      },
      "outputs": [
        {
          "name": "stdout",
          "output_type": "stream",
          "text": [
            "[[1 2 3]\n",
            " [4 5 6]\n",
            " [6 7 8]]\n",
            "[1 2 3]\n",
            "(3, 3)\n",
            "(3,)\n",
            "[14 32 44]\n"
          ]
        }
      ],
      "source": [
        "arr01=np.array([[1,2,3],\n",
        "              [4,5,6],\n",
        "              [6,7,8]])\n",
        "arr02=np.array([1,2,3])\n",
        "print(arr01)\n",
        "print(arr02)\n",
        "print(arr01.shape)\n",
        "print(arr02.shape)\n",
        "print(arr01@arr02)"
      ]
    },
    {
      "cell_type": "code",
      "execution_count": null,
      "id": "0e8ad0e3",
      "metadata": {
        "id": "0e8ad0e3"
      },
      "outputs": [],
      "source": []
    }
  ],
  "metadata": {
    "kernelspec": {
      "display_name": "Python 3 (ipykernel)",
      "language": "python",
      "name": "python3"
    },
    "language_info": {
      "codemirror_mode": {
        "name": "ipython",
        "version": 3
      },
      "file_extension": ".py",
      "mimetype": "text/x-python",
      "name": "python",
      "nbconvert_exporter": "python",
      "pygments_lexer": "ipython3",
      "version": "3.9.12"
    },
    "colab": {
      "provenance": [],
      "include_colab_link": true
    }
  },
  "nbformat": 4,
  "nbformat_minor": 5
}