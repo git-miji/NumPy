{
 "cells": [
  {
   "cell_type": "markdown",
   "id": "51c12c03",
   "metadata": {},
   "source": [
    "# NumPy\n",
    "\n",
    "NumPy is short for \"Numerical Python\". NumPy is a Python library used for working with arrays. It is a general purpose array-processing package.It provides a high performance multidimensional array object, and tools for working with these arrays. It is the fundamental package for scientific computing with Python."
   ]
  },
  {
   "cell_type": "markdown",
   "id": "14c385cf",
   "metadata": {},
   "source": [
    "# Array\n",
    "Array is an data structure that stores values of same data type. In, python, this is the main difference between with arrays and lists.While Python lists can obtain values corresponding to different data types, arrays in Python can only contain values corresponding to same data type."
   ]
  },
  {
   "cell_type": "code",
   "execution_count": 2,
   "id": "1cac8c91",
   "metadata": {},
   "outputs": [],
   "source": [
    "# First we must import Numpy. NumPy is usually imported under the np alias.\n",
    "import numpy as np"
   ]
  },
  {
   "cell_type": "markdown",
   "id": "f1e0bc29",
   "metadata": {},
   "source": [
    "# Create a NumPy ndarray Object\n",
    "NumPy is used to work with arrays. The array object in NumPy is called ndarray. We can create a NumPy ndarray object by using the array() function. To create an ndarray, we can pass a list, tuple or any array-like object into the array() method, and it will be converted into an ndarray:"
   ]
  },
  {
   "cell_type": "code",
   "execution_count": 2,
   "id": "ab9301ce",
   "metadata": {},
   "outputs": [],
   "source": [
    "list_01=[1, 2, 3, 4, 5]\n",
    "list_02= [6, 7, 8, 9, 10]\n",
    "arr1=np.array(list_01)\n",
    "arr2=np.array(list_02)"
   ]
  },
  {
   "cell_type": "code",
   "execution_count": 7,
   "id": "76ccaf5c",
   "metadata": {},
   "outputs": [
    {
     "data": {
      "text/plain": [
       "array([1, 2, 3, 4, 5])"
      ]
     },
     "execution_count": 7,
     "metadata": {},
     "output_type": "execute_result"
    }
   ],
   "source": [
    "arr1"
   ]
  },
  {
   "cell_type": "code",
   "execution_count": 41,
   "id": "6aa745d8",
   "metadata": {},
   "outputs": [
    {
     "data": {
      "text/plain": [
       "numpy.ndarray"
      ]
     },
     "execution_count": 41,
     "metadata": {},
     "output_type": "execute_result"
    }
   ],
   "source": [
    "type(arr1)"
   ]
  },
  {
   "cell_type": "code",
   "execution_count": 4,
   "id": "a94c7109",
   "metadata": {},
   "outputs": [
    {
     "name": "stdout",
     "output_type": "stream",
     "text": [
      "1.21.5\n"
     ]
    }
   ],
   "source": [
    "#Checking NumPy Version\n",
    "print(np.__version__)"
   ]
  },
  {
   "cell_type": "markdown",
   "id": "cc6ec067",
   "metadata": {},
   "source": [
    "# Dimension of Arrays:\n",
    "A dimension in arrays is one level of array depth (nested arrays). \n",
    "Nested array: are arrays that have arrays as their elements."
   ]
  },
  {
   "cell_type": "markdown",
   "id": "2cf801f4",
   "metadata": {},
   "source": [
    "# 0-D Arrays\n",
    "0-D arrays, or Scalars, are the elements in an array. Each value in an array is a 0-D array. Example: Create a 0-D array with value 100 and check it's shape. Also check number of dimension of the array."
   ]
  },
  {
   "cell_type": "code",
   "execution_count": 14,
   "id": "679e7b90",
   "metadata": {},
   "outputs": [
    {
     "name": "stdout",
     "output_type": "stream",
     "text": [
      "100\n",
      "()\n",
      "0\n"
     ]
    }
   ],
   "source": [
    "arr = np.array(100)\n",
    "print(arr)\n",
    "print(arr.shape)\n",
    "print(arr.ndim)"
   ]
  },
  {
   "cell_type": "markdown",
   "id": "6486eeed",
   "metadata": {},
   "source": [
    "# 1-D Arrays\n",
    "An array that has 0-D arrays as its elements is called uni-dimensional or 1-D array. These are the most common and basic arrays. Example: Create a 1-D array containing the values 1,2,3,4,5 and check it's shape. Also check number of dimension of the array."
   ]
  },
  {
   "cell_type": "code",
   "execution_count": 13,
   "id": "3970d31b",
   "metadata": {},
   "outputs": [
    {
     "name": "stdout",
     "output_type": "stream",
     "text": [
      "[1 2 3 4 5]\n",
      "(5,)\n",
      "1\n"
     ]
    }
   ],
   "source": [
    "arr = np.array([1,2,3,4,5])\n",
    "print(arr)\n",
    "print(arr.shape)\n",
    "print(arr.ndim)"
   ]
  },
  {
   "cell_type": "markdown",
   "id": "6d8fa3d0",
   "metadata": {},
   "source": [
    "# 2-D Arrays\n",
    "An array that has 1-D arrays as its elements is called a 2-D array. These are often used to represent matrix or 2nd order tensors. NumPy has a whole sub module dedicated towards matrix operations called numpy.mat. 2 Bracket means 2 dimensional array. Example: "
   ]
  },
  {
   "cell_type": "code",
   "execution_count": 18,
   "id": "d3e1617a",
   "metadata": {},
   "outputs": [],
   "source": [
    "list_01=[1, 2, 3, 4, 5, 6]\n",
    "list_02= [6, 7, 8, 9, 10, 11]"
   ]
  },
  {
   "cell_type": "code",
   "execution_count": 19,
   "id": "d68234a2",
   "metadata": {},
   "outputs": [],
   "source": [
    "arr=np.array([list_01, list_02])"
   ]
  },
  {
   "cell_type": "code",
   "execution_count": 20,
   "id": "f5a8cc0e",
   "metadata": {},
   "outputs": [
    {
     "name": "stdout",
     "output_type": "stream",
     "text": [
      "[[ 1  2  3  4  5  6]\n",
      " [ 6  7  8  9 10 11]]\n",
      "2\n"
     ]
    }
   ],
   "source": [
    "print(arr)\n",
    "print(arr.ndim)"
   ]
  },
  {
   "cell_type": "markdown",
   "id": "81eaeb33",
   "metadata": {},
   "source": [
    "# 3-D arrays\n",
    "An array that has 2-D arrays (matrices) as its elements is called 3-D array. These are often used to represent a 3rd order tensor. Example: Create a 3-D array with two 2-D arrays, both containing two arrays with the values 1,2,3,4,5 and 6,7,8,9,10. Also check number of dimension of the array."
   ]
  },
  {
   "cell_type": "code",
   "execution_count": 21,
   "id": "a7c97dc3",
   "metadata": {},
   "outputs": [
    {
     "name": "stdout",
     "output_type": "stream",
     "text": [
      "[[[ 1  2  3  4  5]\n",
      "  [ 6  7  8  9 10]]\n",
      "\n",
      " [[ 1  2  3  4  5]\n",
      "  [ 6  7  8  9 10]]]\n",
      "(2, 2, 5)\n",
      "3\n"
     ]
    }
   ],
   "source": [
    "arr=np.array([[[1,2,3,4,5], [6,7,8,9,10]],[[1,2,3,4,5], [6,7,8,9,10]]])\n",
    "print(arr)\n",
    "print(arr.shape)\n",
    "print(arr.ndim)"
   ]
  },
  {
   "cell_type": "markdown",
   "id": "782a7b41",
   "metadata": {},
   "source": [
    "array.shape will also tell the number of Row and Colums.\n",
    "\n",
    "Reshape can be done by array.reshape method. While doing so, number of elements in an array must be equal."
   ]
  },
  {
   "cell_type": "code",
   "execution_count": 22,
   "id": "fed0c1e2",
   "metadata": {
    "scrolled": true
   },
   "outputs": [
    {
     "data": {
      "text/plain": [
       "(2, 2, 5)"
      ]
     },
     "execution_count": 22,
     "metadata": {},
     "output_type": "execute_result"
    }
   ],
   "source": [
    "arr.shape"
   ]
  },
  {
   "cell_type": "code",
   "execution_count": 26,
   "id": "254cf352",
   "metadata": {
    "scrolled": true
   },
   "outputs": [
    {
     "name": "stdout",
     "output_type": "stream",
     "text": [
      "[[ 1  2]\n",
      " [ 3  4]\n",
      " [ 5  6]\n",
      " [ 7  8]\n",
      " [ 9 10]\n",
      " [ 1  2]\n",
      " [ 3  4]\n",
      " [ 5  6]\n",
      " [ 7  8]\n",
      " [ 9 10]]\n",
      "(10, 2)\n"
     ]
    }
   ],
   "source": [
    "reshape_arr1=arr.reshape(10,2)\n",
    "print(reshape_arr1)\n",
    "print(reshape_arr1.shape)"
   ]
  },
  {
   "cell_type": "code",
   "execution_count": 23,
   "id": "bf7a7016",
   "metadata": {},
   "outputs": [
    {
     "name": "stdout",
     "output_type": "stream",
     "text": [
      "[[ 1  2  3  4  5  6  6  7  8]\n",
      " [ 9 10 11 11 12 13 14 15 16]]\n",
      "(2, 9)\n"
     ]
    }
   ],
   "source": [
    "reshape_arr2=arr.reshape(2,9)\n",
    "print(reshape_arr2)\n",
    "print(reshape_arr2.shape)"
   ]
  },
  {
   "cell_type": "code",
   "execution_count": 30,
   "id": "bdab06d7",
   "metadata": {
    "scrolled": true
   },
   "outputs": [
    {
     "name": "stdout",
     "output_type": "stream",
     "text": [
      "[[ 1  2  3  4  5  6  7  8  9 10]\n",
      " [ 1  2  3  4  5  6  7  8  9 10]]\n",
      "(2, 10)\n"
     ]
    }
   ],
   "source": [
    "reshape_arr3=arr.reshape(2,10)\n",
    "print(reshape_arr3)\n",
    "print(reshape_arr3.shape)"
   ]
  },
  {
   "cell_type": "code",
   "execution_count": 28,
   "id": "06dc7605",
   "metadata": {},
   "outputs": [
    {
     "name": "stdout",
     "output_type": "stream",
     "text": [
      "[[ 1  2  3  4  5  6  7  8  9 10  1  2  3  4  5  6  7  8  9 10]]\n",
      "(1, 20)\n"
     ]
    }
   ],
   "source": [
    "reshape_arr4=arr.reshape(1,20)\n",
    "print(reshape_arr4)\n",
    "print(reshape_arr4.shape)"
   ]
  },
  {
   "cell_type": "code",
   "execution_count": 29,
   "id": "cdf54fc0",
   "metadata": {
    "scrolled": true
   },
   "outputs": [
    {
     "name": "stdout",
     "output_type": "stream",
     "text": [
      "[[ 1]\n",
      " [ 2]\n",
      " [ 3]\n",
      " [ 4]\n",
      " [ 5]\n",
      " [ 6]\n",
      " [ 7]\n",
      " [ 8]\n",
      " [ 9]\n",
      " [10]\n",
      " [ 1]\n",
      " [ 2]\n",
      " [ 3]\n",
      " [ 4]\n",
      " [ 5]\n",
      " [ 6]\n",
      " [ 7]\n",
      " [ 8]\n",
      " [ 9]\n",
      " [10]]\n",
      "(20, 1)\n"
     ]
    }
   ],
   "source": [
    "reshape_arr5=arr.reshape(20,1)\n",
    "print(reshape_arr5)\n",
    "print(reshape_arr5.shape)"
   ]
  },
  {
   "cell_type": "markdown",
   "id": "d3574e9c",
   "metadata": {},
   "source": [
    "# NumPy Array Indexing: Access Array Elements\n",
    "Array indexing is the same as accessing an array element. One can access an array element by referring to its index number. The indexes in NumPy arrays start with 0, meaning that the first element has index 0, and the second has index 1 etc. We have 1D, 2D and 3D array for indexing learning purpose here."
   ]
  },
  {
   "cell_type": "code",
   "execution_count": 50,
   "id": "d7dc284b",
   "metadata": {
    "scrolled": true
   },
   "outputs": [
    {
     "name": "stdout",
     "output_type": "stream",
     "text": [
      "The 1D array is:\n",
      " [1 2 3 4 5 6]\n",
      "The 2D array is:\n",
      " [[ 1  2  3  4  5  6]\n",
      " [ 6  7  8  9 10 11]]\n",
      "The 3D array is:\n",
      " [[[ 1  2  3  4  5  6]\n",
      "  [ 6  7  8  9 10 11]]\n",
      "\n",
      " [[11 12 13 14 15 16]\n",
      "  [16 17 18 19 20 21]]]\n"
     ]
    }
   ],
   "source": [
    "list_01=[1, 2, 3, 4, 5, 6]\n",
    "list_02= [6, 7, 8, 9, 10, 11]\n",
    "list_03=[11, 12, 13, 14, 15, 16]\n",
    "list_04= [16, 17, 18, 19, 20, 21]\n",
    "arr_01D= np.array(list_01)\n",
    "arr_02D=np.array([list_01, list_02])\n",
    "arr_03D=np.array([[list_01, list_02], [list_03, list_04]])\n",
    "print('The 1D array is:\\n', arr_01D)\n",
    "print('The 2D array is:\\n', arr_02D)\n",
    "print(\"The 3D array is:\\n\", arr_03D)"
   ]
  },
  {
   "cell_type": "markdown",
   "id": "d616c2c1",
   "metadata": {},
   "source": [
    "# 1-D Array\n",
    "01. Get the 3rd element from 1-D Array\n",
    "\n",
    "# 2-D Array\n",
    "To access elements from 2-D arrays we can use comma separated integers representing the dimension and the index of the element. Think of 2-D arrays like a table with rows and columns, where the row represents the dimension and the index represents the column.\n",
    "01. Access the element on the first row, second column.\n",
    "02. Access the element on the 2nd row, 5th column.\n",
    "# 3-D Array\n",
    "To access elements from 3-D arrays we can use comma separated integers representing the dimensions and the index of the element.\n",
    "01. Access the third element of the second array of the first array."
   ]
  },
  {
   "cell_type": "code",
   "execution_count": 61,
   "id": "372d653a",
   "metadata": {},
   "outputs": [
    {
     "name": "stdout",
     "output_type": "stream",
     "text": [
      "3rd element of 1-D Array is: 3\n",
      "Element on the first row, second column of 2-D Array is: 2\n",
      "Element on the 2nd row, 5th column of 2-D Array is: 10\n",
      "3rd Element of the 2nd Array of the 1st Array is: 8\n"
     ]
    }
   ],
   "source": [
    "print('3rd element of 1-D Array is:', arr_01D[2])\n",
    "print('Element on the first row, second column of 2-D Array is:', arr_02D[0,1])\n",
    "print('Element on the 2nd row, 5th column of 2-D Array is:', arr_02D[1,4])\n",
    "print('3rd Element of the 2nd Array of the 1st Array is:', arr_03D[0,1,2])"
   ]
  },
  {
   "cell_type": "code",
   "execution_count": 9,
   "id": "6b287757",
   "metadata": {},
   "outputs": [
    {
     "name": "stdout",
     "output_type": "stream",
     "text": [
      "[[1 2 3]\n",
      " [4 5 6]\n",
      " [6 7 8]]\n",
      "[1 2 3]\n",
      "(3, 3)\n",
      "(3,)\n",
      "[14 32 44]\n"
     ]
    }
   ],
   "source": [
    "arr01=np.array([[1,2,3],\n",
    "              [4,5,6],\n",
    "              [6,7,8]])\n",
    "arr02=np.array([1,2,3])\n",
    "print(arr01)\n",
    "print(arr02)\n",
    "print(arr01.shape)\n",
    "print(arr02.shape)\n",
    "print(arr01@arr02)"
   ]
  },
  {
   "cell_type": "code",
   "execution_count": 16,
   "id": "0e8ad0e3",
   "metadata": {},
   "outputs": [
    {
     "name": "stdout",
     "output_type": "stream",
     "text": [
      "[[1.]\n",
      " [1.]\n",
      " [1.]]\n",
      "[[1. 1. 1.]]\n",
      "(3, 1)\n",
      "(1, 3)\n"
     ]
    }
   ],
   "source": [
    "b=np.ones((3,1))\n",
    "c=b.T\n",
    "print(b)\n",
    "print(c)\n",
    "print(b.shape)\n",
    "print(c.shape)"
   ]
  },
  {
   "cell_type": "code",
   "execution_count": null,
   "id": "fb9c6838",
   "metadata": {},
   "outputs": [],
   "source": []
  }
 ],
 "metadata": {
  "kernelspec": {
   "display_name": "Python 3 (ipykernel)",
   "language": "python",
   "name": "python3"
  },
  "language_info": {
   "codemirror_mode": {
    "name": "ipython",
    "version": 3
   },
   "file_extension": ".py",
   "mimetype": "text/x-python",
   "name": "python",
   "nbconvert_exporter": "python",
   "pygments_lexer": "ipython3",
   "version": "3.9.12"
  }
 },
 "nbformat": 4,
 "nbformat_minor": 5
}
